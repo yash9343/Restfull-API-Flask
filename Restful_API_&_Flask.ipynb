{
  "nbformat": 4,
  "nbformat_minor": 0,
  "metadata": {
    "colab": {
      "provenance": []
    },
    "kernelspec": {
      "name": "python3",
      "display_name": "Python 3"
    },
    "language_info": {
      "name": "python"
    }
  },
  "cells": [
    {
      "cell_type": "markdown",
      "source": [
        "Q1 What is a RESTful API?\n",
        "\n",
        "Ans] RESTful API = An API (Application Programming Interface) that follows the REST (Representational State Transfer) principles.\n",
        "It lets two systems communicate over HTTP using standard methods like GET, POST, PUT, DELETE."
      ],
      "metadata": {
        "id": "wTXl_weh4MIb"
      }
    },
    {
      "cell_type": "markdown",
      "source": [
        "Q2 Explain the concept of API specification.\n",
        "\n",
        "Ans] An API specification is like a blueprint/manual that describes how to use an API.\n",
        "It defines rules, inputs, outputs, and structure so developers know exactly how to interact with the API."
      ],
      "metadata": {
        "id": "im3ZxIMF6Y7t"
      }
    },
    {
      "cell_type": "markdown",
      "source": [
        "Q3 What is Flask, and why is it popular for building APIs?\n",
        "\n",
        "Ans] Flask is a lightweight web framework in Python used to build web applications and APIs.\n",
        "\n",
        "Flask is popular for APIs because it is simple, lightweight, flexible, and easy to integrate with other Python tools."
      ],
      "metadata": {
        "id": "dkQspZis6mk9"
      }
    },
    {
      "cell_type": "markdown",
      "source": [
        "Q4 What is routing in Flask?\n",
        "\n",
        "Ans] Routing in Flask means mapping a URL (web address) to a specific function in our Python code.\n",
        "\n",
        "When a user visits a certain URL in the browser, Flask runs the function linked to that route.\n",
        "\n",
        "That function usually returns HTML, JSON, or plain text."
      ],
      "metadata": {
        "id": "VDF8KhWl9xrR"
      }
    },
    {
      "cell_type": "markdown",
      "source": [
        "Q5 How do you create a simple Flask application?\n",
        "\n",
        "Ans]A simple Flask application involves installing Flask, creating an app instance, defining routes, and running the server so users can access your web application."
      ],
      "metadata": {
        "id": "o2-TmAr1-b0r"
      }
    },
    {
      "cell_type": "markdown",
      "source": [
        "Q6 What are HTTP methods used in RESTful APIs?\n",
        "\n",
        "Ans]\n",
        "\n",
        "In RESTful APIs, HTTP methods (also called verbs) define what kind of operation we want to perform on a resource (like users, products, orders).\n",
        "\n",
        "->> Common HTTP Methods\n",
        "\n",
        "1 GET\n",
        "\n",
        "- Used to retrieve data from the server.\n",
        "\n",
        "- Example:\n",
        "\n",
        "- GET /products → Get all products\n",
        "\n",
        "- GET /products/1 → Get product with ID = 1\n",
        "\n",
        "2 POST\n",
        "\n",
        "- Used to create a new resource.\n",
        "\n",
        "- Example:\n",
        "\n",
        "- POST /products with body { \"name\": \"Soap\", \"price\": 30 } → Creates a new product\n",
        "\n",
        "3 PUT\n",
        "\n",
        "- Used to update an existing resource completely.\n",
        "\n",
        "- Example:\n",
        "\n",
        "- PUT /products/1 with body { \"name\": \"Soap\", \"price\": 40 } → Replaces the old product with new data\n",
        "\n",
        "4 PATCH\n",
        "\n",
        "- Used to partially update an existing resource.\n",
        "\n",
        "- Example:\n",
        "\n",
        "- PATCH /products/1 with body { \"price\": 50 } → Updates only the price field\n",
        "\n",
        "5 DELETE\n",
        "\n",
        "- Used to remove a resource.\n",
        "\n",
        "- Example:\n",
        "\n",
        "- DELETE /products/1 → Deletes the product with ID = 1"
      ],
      "metadata": {
        "id": "GPN_qMHZ-bxa"
      }
    },
    {
      "cell_type": "markdown",
      "source": [
        "Q7 What is the purpose of the @app.route() decorator in Flask?\n",
        "\n",
        "Ans] The @app.route() decorator tells Flask which URL should trigger which function, making it the core of routing in Flask applications."
      ],
      "metadata": {
        "id": "y94UxUgP-bvs"
      }
    },
    {
      "cell_type": "markdown",
      "source": [
        "Q8 What is the difference between GET and POST HTTP methods?\n",
        "\n",
        "Ans]\n",
        "\n",
        "- GET → Fetch data from server, data sent in URL, visible, small size, can be cached/bookmarked.\n",
        "\n",
        "- POST → Send data to server, data sent in body, hidden, large size allowed, not cached/bookmarked."
      ],
      "metadata": {
        "id": "MLywVYaA-bsv"
      }
    },
    {
      "cell_type": "markdown",
      "source": [
        "Q9 How do you handle errors in Flask APIs?\n",
        "\n",
        "Ans] Errors in Flask APIs are handled using @app.errorhandler, abort(), or try–except to return clear JSON responses with proper status codes.\n",
        "\n"
      ],
      "metadata": {
        "id": "cKeReRRA-bqO"
      }
    },
    {
      "cell_type": "markdown",
      "source": [
        "Q10 How do you connect Flask to a SQL database?\n",
        "\n",
        "Ans] To connect Flask to a SQL database → Install SQLAlchemy, configure database URI, define models, create tables, and perform queries.\n"
      ],
      "metadata": {
        "id": "zaFR1D6oCU5a"
      }
    },
    {
      "cell_type": "markdown",
      "source": [
        "Q11 What is the role of Flask-SQLAlchemy?\n",
        "\n",
        "Ans] Flask-SQLAlchemy simplifies database operations in Flask by providing:\n",
        "\n",
        "- Easy setup\n",
        "\n",
        "- ORM features\n",
        "\n",
        "- Cleaner, Pythonic queries\n",
        "\n",
        "- Integration with Flask app lifecycle"
      ],
      "metadata": {
        "id": "iApy0l7oDYHU"
      }
    },
    {
      "cell_type": "markdown",
      "source": [
        "Q12 What are Flask blueprints, and how are they useful?\n",
        "\n",
        "Ans]\n",
        "\n",
        "A Blueprint in Flask is like a mini-application or modular component inside your main Flask app.\n",
        "\n",
        "Instead of writing all routes, views, and logic in a single app.py file, you can organize them into blueprints (like modules).\n",
        "\n",
        "Flask Blueprints help you build modular, organized, and scalable applications by grouping related routes and logic into separate components, which can then be registered in the main app."
      ],
      "metadata": {
        "id": "CEWCTiShDySb"
      }
    },
    {
      "cell_type": "markdown",
      "source": [
        "Q13 What is the purpose of Flask's request object?\n",
        "\n",
        "Ans] The request object in Flask lets you read data sent by the client (query params, form inputs, JSON, headers, files, method, etc.), making it essential for handling user input and API requests."
      ],
      "metadata": {
        "id": "sd1iNYT0ES6A"
      }
    },
    {
      "cell_type": "markdown",
      "source": [
        "Q14 How do you create a RESTful API endpoint using Flask?\n",
        "\n",
        "Ans]\n",
        "\n",
        "We create a RESTful API endpoint in Flask by:\n",
        "\n",
        "- Defining a route with @app.route()\n",
        "\n",
        "- Specifying HTTP methods (GET, POST, PUT, DELETE)\n",
        "\n",
        "- Using the request object to read input\n",
        "\n",
        "- Returning JSON responses with jsonify()"
      ],
      "metadata": {
        "id": "Y5ua9CWUE2Ez"
      }
    },
    {
      "cell_type": "markdown",
      "source": [
        "Q15 What is the purpose of Flask's jsonify() function?\n",
        "\n",
        "Ans] Purpose of jsonify() in Flask\n",
        "\n",
        "- jsonify() converts Python data types (dict, list, etc.) into JSON response.\n",
        "\n",
        "- It also sets the correct MIME type → application/json.\n",
        "\n",
        "- Ensures proper UTF-8 encoding.\n",
        "\n",
        "- Adds correct HTTP headers automatically."
      ],
      "metadata": {
        "id": "aiBdZT4CGmfc"
      }
    },
    {
      "cell_type": "markdown",
      "source": [
        "Q16 Explain Flask’s url_for() function.\n",
        "\n",
        "Ans] Flask’s url_for() function\n",
        "\n",
        "- Used to build URLs dynamically instead of hardcoding them.\n",
        "\n",
        "- It takes the function name of a route and generates the correct URL.\n",
        "\n",
        "- This helps if routes change later → no need to update links manually."
      ],
      "metadata": {
        "id": "MJBfQrhXH8Kf"
      }
    },
    {
      "cell_type": "markdown",
      "source": [
        "Q17 How does Flask handle static files (CSS, JavaScript, etc.)?\n",
        "\n",
        "Ans] Flask automatically serves CSS, JS, and images from the static/ folder, and we link them in templates using url_for('static', filename=...)"
      ],
      "metadata": {
        "id": "_VVscM1wINdX"
      }
    },
    {
      "cell_type": "markdown",
      "source": [
        "Q18 What is an API specification, and how does it help in building a Flask API?\n",
        "\n",
        "Ans] An API specification provides a detailed plan of the API, which helps in building, testing, documenting, and maintaining Flask APIs efficiently."
      ],
      "metadata": {
        "id": "vxCLtvYxI6rI"
      }
    },
    {
      "cell_type": "markdown",
      "source": [
        "Q19 What are HTTP status codes, and why are they important in a Flask API?\n",
        "\n",
        "Ans] HTTP status codes indicate the result of a client request and are essential in Flask APIs for proper communication, error handling, and adherence to REST standards."
      ],
      "metadata": {
        "id": "igAZSbbwJQpd"
      }
    },
    {
      "cell_type": "markdown",
      "source": [
        "Q20 How do you handle POST requests in Flask?\n",
        "\n",
        "Ans] To handle POST requests in Flask:\n",
        "\n",
        "1 Use methods=['POST'] in the route\n",
        "\n",
        "2 Access data with request.form (for forms) or request.json (for JSON)\n",
        "\n",
        "3 Return a JSON response using jsonify()"
      ],
      "metadata": {
        "id": "5wdHJ9thJk2E"
      }
    },
    {
      "cell_type": "markdown",
      "source": [
        "Q21 How would you secure a Flask API?\n",
        "\n",
        "Ans] To secure a Flask API:\n",
        "\n",
        "- Authenticate users (API keys, JWT, OAuth)\n",
        "\n",
        "- Authorize actions based on roles\n",
        "\n",
        "- Use HTTPS\n",
        "\n",
        "- Validate inputs\n",
        "\n",
        "- Apply rate limiting and CORS controls\n",
        "\n",
        "- Handle errors safely"
      ],
      "metadata": {
        "id": "b3gtC555KBxp"
      }
    },
    {
      "cell_type": "markdown",
      "source": [
        "Q22 What is the significance of the Flask-RESTful extension?\n",
        "\n",
        "Ans] Flask-RESTful makes building REST APIs in Flask:\n",
        "\n",
        "- More organized (class-based resources)\n",
        "\n",
        "- Easier (automatic parsing and response formatting)\n",
        "\n",
        "- Cleaner and consistent for CRUD operations"
      ],
      "metadata": {
        "id": "m2w1keZ9Kdpn"
      }
    },
    {
      "cell_type": "markdown",
      "source": [
        "Q23 What is the role of Flask’s session object?\n",
        "\n",
        "Ans] The session object in Flask lets we store and access user-specific data across multiple requests, making it essential for login systems, carts, and user preferences."
      ],
      "metadata": {
        "id": "3CQVt8tTR3HR"
      }
    },
    {
      "cell_type": "markdown",
      "source": [
        "##PRACTICAL QUESTIONS\n"
      ],
      "metadata": {
        "id": "oNEIoxyrTuX1"
      }
    },
    {
      "cell_type": "markdown",
      "source": [
        "Q1 How do you create a basic Flask application?\n",
        "\n",
        "Ans]"
      ],
      "metadata": {
        "id": "5j2CkPbQT0Tg"
      }
    },
    {
      "cell_type": "code",
      "source": [
        "from flask import Flask\n",
        "\n",
        "app = Flask(__name__)\n",
        "\n",
        "@app.route('/')\n",
        "def home():\n",
        "    return \"Hello from Flask running in Google Colab!\"\n",
        "\n",
        "# Only run if called directly\n",
        "if __name__ == '__main__':\n",
        "    app.run()\n"
      ],
      "metadata": {
        "colab": {
          "base_uri": "https://localhost:8080/"
        },
        "id": "MNXXwNg0UG_E",
        "outputId": "f759525e-0884-418b-d1f8-01320906745c"
      },
      "execution_count": null,
      "outputs": [
        {
          "metadata": {
            "tags": null
          },
          "name": "stdout",
          "output_type": "stream",
          "text": [
            " * Serving Flask app '__main__'\n",
            " * Debug mode: off\n"
          ]
        },
        {
          "metadata": {
            "tags": null
          },
          "name": "stderr",
          "output_type": "stream",
          "text": [
            "INFO:werkzeug:\u001b[31m\u001b[1mWARNING: This is a development server. Do not use it in a production deployment. Use a production WSGI server instead.\u001b[0m\n",
            " * Running on http://127.0.0.1:5000\n",
            "INFO:werkzeug:\u001b[33mPress CTRL+C to quit\u001b[0m\n"
          ]
        }
      ]
    },
    {
      "cell_type": "markdown",
      "source": [
        "Q2 How do you serve static files like images or CSS in Flask?\n",
        "\n",
        "Ans]"
      ],
      "metadata": {
        "id": "gokYG_jyUNp6"
      }
    },
    {
      "cell_type": "code",
      "source": [
        "from flask import Flask, render_template_string\n",
        "from pyngrok import ngrok\n",
        "\n",
        "app = Flask(__name__)\n",
        "\n",
        "# Sample HTML using a static CSS file\n",
        "html_content = \"\"\"\n",
        "<!DOCTYPE html>\n",
        "<html>\n",
        "<head>\n",
        "    <link rel=\"stylesheet\" href=\"{{ url_for('static', filename='style.css') }}\">\n",
        "</head>\n",
        "<body>\n",
        "    <h1>Welcome to Flask in Colab!</h1>\n",
        "</body>\n",
        "</html>\n",
        "\"\"\"\n",
        "\n",
        "# Route for home page\n",
        "@app.route('/')\n",
        "def home():\n",
        "    return render_template_string(html_content)\n",
        "\n",
        "# Create a temporary public URL\n",
        "public_url = ngrok.connect(5000)\n",
        "print(\"Public URL:\", public_url)\n",
        "\n",
        "# Run Flask\n",
        "app.run(port=5000)\n"
      ],
      "metadata": {
        "id": "_1KqBsD0UUXH"
      },
      "execution_count": null,
      "outputs": []
    },
    {
      "cell_type": "markdown",
      "source": [
        "Q3 How do you define different routes with different HTTP methods in Flask?\n",
        "\n",
        "Ans]"
      ],
      "metadata": {
        "id": "s79E0k4HU6lO"
      }
    },
    {
      "cell_type": "code",
      "source": [
        "from flask import Flask, request, jsonify\n",
        "\n",
        "app = Flask(__name__)\n",
        "\n",
        "# GET request (default)\n",
        "@app.route('/hello', methods=['GET'])\n",
        "def hello():\n",
        "    return \"Hello, this is a GET request!\"\n",
        "\n",
        "# POST request\n",
        "@app.route('/submit', methods=['POST'])\n",
        "def submit():\n",
        "    data = request.json\n",
        "    return jsonify({\"message\": \"Data received\", \"data\": data})\n",
        "\n",
        "# Multiple methods (GET and POST)\n",
        "@app.route('/multi', methods=['GET', 'POST'])\n",
        "def multi():\n",
        "    if request.method == 'GET':\n",
        "        return \"You made a GET request!\"\n",
        "    elif request.method == 'POST':\n",
        "        data = request.json\n",
        "        return jsonify({\"message\": \"You made a POST request!\", \"data\": data})\n",
        "\n",
        "if __name__ == '__main__':\n",
        "    app.run(debug=True)\n"
      ],
      "metadata": {
        "id": "8mW74-eOVDRC"
      },
      "execution_count": null,
      "outputs": []
    },
    {
      "cell_type": "markdown",
      "source": [
        "Q4 How do you render HTML templates in Flask?\n",
        "\n",
        "Ans]"
      ],
      "metadata": {
        "id": "d4k9EfjqVWKO"
      }
    },
    {
      "cell_type": "code",
      "source": [
        "from flask import Flask, render_template\n",
        "\n",
        "app = Flask(__name__)\n",
        "\n",
        "@app.route('/')\n",
        "def home():\n",
        "    # Pass variables to template\n",
        "    return render_template('index.html', name=\"Yash\")\n",
        "\n",
        "if __name__ == '__main__':\n",
        "    app.run(debug=True)\n"
      ],
      "metadata": {
        "id": "N6oUQLykVemb"
      },
      "execution_count": null,
      "outputs": []
    },
    {
      "cell_type": "markdown",
      "source": [
        "Q5 How can you generate URLs for routes in Flask using url_for?\n",
        "\n",
        "Ans]"
      ],
      "metadata": {
        "id": "wS3MQQDqVhvb"
      }
    },
    {
      "cell_type": "code",
      "source": [
        "from flask import Flask, url_for\n",
        "\n",
        "app = Flask(__name__)\n",
        "\n",
        "@app.route('/')\n",
        "def home():\n",
        "    return \"Home Page\"\n",
        "\n",
        "@app.route('/user/<username>')\n",
        "def profile(username):\n",
        "    return f\"Profile Page of {username}\"\n",
        "\n",
        "@app.route('/links')\n",
        "def links():\n",
        "    # Generate URLs dynamically\n",
        "    home_url = url_for('home')\n",
        "    user_url = url_for('profile', username='Yash')\n",
        "    return f\"Home: {home_url} <br> Profile: {user_url}\"\n",
        "\n",
        "if __name__ == '__main__':\n",
        "    app.run(debug=True)\n"
      ],
      "metadata": {
        "id": "ycIxaEnRV01u"
      },
      "execution_count": null,
      "outputs": []
    },
    {
      "cell_type": "markdown",
      "source": [
        "Q6  How do you handle forms in Flask?\n",
        "\n",
        "Ans]"
      ],
      "metadata": {
        "id": "ga0tcB6SV94e"
      }
    },
    {
      "cell_type": "code",
      "source": [
        "# Install required packages\n",
        "!pip install flask pyngrok\n",
        "\n",
        "# Import libraries\n",
        "from flask import Flask, request, render_template_string, url_for\n",
        "from pyngrok import ngrok\n",
        "import os\n",
        "\n",
        "# Create 'static' folder in Colab\n",
        "if not os.path.exists('static'):\n",
        "    os.mkdir('static')\n",
        "\n",
        "# Create a sample CSS file in 'static'\n",
        "css_content = \"body { background-color: lightyellow; font-family: Arial; text-align: center; } h1 { color: green; }\"\n",
        "with open(\"static/style.css\", \"w\") as f:\n",
        "    f.write(css_content)\n",
        "\n",
        "# Initialize Flask app\n",
        "app = Flask(__name__)\n",
        "\n",
        "# HTML Templates as strings (since Colab cannot use files easily)\n",
        "home_template = \"\"\"\n",
        "<!DOCTYPE html>\n",
        "<html>\n",
        "<head>\n",
        "    <title>Home Page</title>\n",
        "    <link rel=\"stylesheet\" href=\"{{ url_for('static', filename='style.css') }}\">\n",
        "</head>\n",
        "<body>\n",
        "    <h1>Welcome to Flask in Colab!</h1>\n",
        "    <p><a href=\"{{ url_for('form') }}\">Go to Form</a></p>\n",
        "    <p><a href=\"{{ url_for('links') }}\">Check URL generation</a></p>\n",
        "</body>\n",
        "</html>\n",
        "\"\"\"\n",
        "\n",
        "form_template = \"\"\"\n",
        "<!DOCTYPE html>\n",
        "<html>\n",
        "<head>\n",
        "    <title>Flask Form</title>\n",
        "    <link rel=\"stylesheet\" href=\"{{ url_for('static', filename='style.css') }}\">\n",
        "</head>\n",
        "<body>\n",
        "    <h1>Submit Your Info</h1>\n",
        "    <form action=\"{{ url_for('submit') }}\" method=\"POST\">\n",
        "        Name: <input type=\"text\" name=\"name\"><br><br>\n",
        "        Age: <input type=\"number\" name=\"age\"><br><br>\n",
        "        <input type=\"submit\" value=\"Submit\">\n",
        "    </form>\n",
        "</body>\n",
        "</html>\n",
        "\"\"\"\n",
        "\n",
        "# Routes\n",
        "@app.route('/')\n",
        "def home():\n",
        "    return render_template_string(home_template)\n",
        "\n",
        "@app.route('/links')\n",
        "def links():\n",
        "    home_url = url_for('home')\n",
        "    form_url = url_for('form')\n",
        "    return f\"Home URL: {home_url} <br> Form URL: {form_url}\"\n",
        "\n",
        "@app.route('/form')\n",
        "def form():\n",
        "    return render_template_string(form_template)\n",
        "\n",
        "@app.route('/submit', methods=['POST'])\n",
        "def submit():\n",
        "    name = request.form['name']\n",
        "    age = request.form['age']\n",
        "    return f\"<h2>Hello {name}, your age is {age}</h2>\"\n",
        "\n",
        "# Expose Flask via ngrok\n",
        "public_url = ngrok.connect(5000)\n",
        "print(\"Open this URL to access the app:\", public_url)\n",
        "\n",
        "# Run Flask app\n",
        "app.run(port=5000)\n"
      ],
      "metadata": {
        "id": "ceD4-f98WFYM"
      },
      "execution_count": null,
      "outputs": []
    },
    {
      "cell_type": "markdown",
      "source": [
        "Q7  How can you validate form data in Flask?\n",
        "\n",
        "Ans]"
      ],
      "metadata": {
        "id": "JftqaSRbWUZP"
      }
    },
    {
      "cell_type": "code",
      "source": [
        "from flask import Flask, request, render_template_string\n",
        "\n",
        "app = Flask(__name__)\n",
        "\n",
        "form_template = \"\"\"\n",
        "<form action=\"/submit\" method=\"POST\">\n",
        "  Name: <input type=\"text\" name=\"name\"><br>\n",
        "  Age: <input type=\"number\" name=\"age\"><br>\n",
        "  <input type=\"submit\" value=\"Submit\">\n",
        "</form>\n",
        "\"\"\"\n",
        "\n",
        "@app.route('/')\n",
        "def form():\n",
        "    return render_template_string(form_template)\n",
        "\n",
        "@app.route('/submit', methods=['POST'])\n",
        "def submit():\n",
        "    name = request.form.get('name')\n",
        "    age = request.form.get('age')\n",
        "\n",
        "    # Manual validation\n",
        "    if not name or len(name) < 2:\n",
        "        return \"Error: Name must be at least 2 characters long.\"\n",
        "    if not age or not age.isdigit() or int(age) <= 0:\n",
        "        return \"Error: Age must be a positive number.\"\n",
        "\n",
        "    return f\"Hello {name}, your age is {age}\"\n",
        "\n",
        "if __name__ == '__main__':\n",
        "    app.run(debug=True)\n"
      ],
      "metadata": {
        "id": "V8UC1jc-Wbcx"
      },
      "execution_count": null,
      "outputs": []
    },
    {
      "cell_type": "markdown",
      "source": [
        "Q8 How do you manage sessions in Flask?\n",
        "\n",
        "Ans]\n"
      ],
      "metadata": {
        "id": "Z5qj05D_Widu"
      }
    },
    {
      "cell_type": "code",
      "source": [
        "from flask import Flask, session, redirect, url_for, request\n",
        "\n",
        "app = Flask(__name__)\n",
        "app.secret_key = 'supersecretkey'  # Required for session encryption\n",
        "\n",
        "# Login route\n",
        "@app.route('/login', methods=['POST'])\n",
        "def login():\n",
        "    user = request.form['username']\n",
        "    session['user'] = user  # Store user in session\n",
        "    return f\"Logged in as {user}\"\n",
        "\n",
        "# Profile route\n",
        "@app.route('/profile')\n",
        "def profile():\n",
        "    if 'user' in session:\n",
        "        return f\"Welcome {session['user']}!\"\n",
        "    else:\n",
        "        return \"You are not logged in.\"\n",
        "\n",
        "# Logout route\n",
        "@app.route('/logout')\n",
        "def logout():\n",
        "    session.pop('user', None)  # Remove user from session\n",
        "    return \"Logged out\"\n",
        "\n",
        "if __name__ == '__main__':\n",
        "    app.run(debug=True)\n"
      ],
      "metadata": {
        "id": "OuAaEVNfW4N5"
      },
      "execution_count": null,
      "outputs": []
    },
    {
      "cell_type": "markdown",
      "source": [
        "Q9 How do you redirect to a different route in Flask?\n",
        "\n",
        "Ans]"
      ],
      "metadata": {
        "id": "WYSPU11VW92_"
      }
    },
    {
      "cell_type": "code",
      "source": [
        "from flask import Flask, redirect, url_for\n",
        "\n",
        "app = Flask(__name__)\n",
        "\n",
        "@app.route('/')\n",
        "def home():\n",
        "    return \"Welcome to the Home Page!\"\n",
        "\n",
        "@app.route('/go-to-about')\n",
        "def go_to_about():\n",
        "    # Redirect user to the 'about' route\n",
        "    return redirect(url_for('about'))\n",
        "\n",
        "@app.route('/about')\n",
        "def about():\n",
        "    return \"This is the About Page!\"\n",
        "\n",
        "if __name__ == '__main__':\n",
        "    app.run(debug=True)\n"
      ],
      "metadata": {
        "id": "JKSiMYYZXD4k"
      },
      "execution_count": null,
      "outputs": []
    },
    {
      "cell_type": "markdown",
      "source": [
        "Q10  How do you handle errors in Flask (e.g., 404)?\n",
        "\n",
        "Ans]"
      ],
      "metadata": {
        "id": "VcVhCft0gZWA"
      }
    },
    {
      "cell_type": "code",
      "source": [
        "from flask import Flask, render_template_string\n",
        "\n",
        "app = Flask(__name__)\n",
        "\n",
        "@app.route('/')\n",
        "def home():\n",
        "    return \"Welcome to the Home Page!\"\n",
        "\n",
        "# Handle 404 errors\n",
        "@app.errorhandler(404)\n",
        "def page_not_found(e):\n",
        "    return render_template_string(\"\"\"\n",
        "        <h1>404 - Page Not Found</h1>\n",
        "        <p>The page you are looking for does not exist.</p>\n",
        "        <a href=\"{{ url_for('home') }}\">Go Home</a>\n",
        "    \"\"\"), 404\n",
        "\n",
        "if __name__ == '__main__':\n",
        "    app.run(debug=True)\n"
      ],
      "metadata": {
        "id": "fxoPCWddghP3"
      },
      "execution_count": null,
      "outputs": []
    },
    {
      "cell_type": "markdown",
      "source": [
        "Q11 How do you structure a Flask app using Blueprints?\n",
        "\n",
        "Ans]"
      ],
      "metadata": {
        "id": "k-RqsDCQgxOD"
      }
    },
    {
      "cell_type": "code",
      "source": [
        "from flask import Blueprint\n",
        "\n",
        "auth_bp = Blueprint('auth', __name__, url_prefix='/auth')\n",
        "\n",
        "@auth_bp.route('/login')\n",
        "def login():\n",
        "    return \"This is the login page\"\n",
        "\n",
        "@auth_bp.route('/logout')\n",
        "def logout():\n",
        "    return \"This is the logout page\"\n"
      ],
      "metadata": {
        "id": "lPsWA5jsg5Y5"
      },
      "execution_count": null,
      "outputs": []
    },
    {
      "cell_type": "markdown",
      "source": [
        "Q12 How do you define a custom Jinja filter in Flask?\n",
        "\n",
        "Ans]"
      ],
      "metadata": {
        "id": "G3OHTM_zhWcF"
      }
    },
    {
      "cell_type": "code",
      "source": [
        "from flask import Flask, render_template_string\n",
        "\n",
        "app = Flask(__name__)\n",
        "\n",
        "# 1️ Define a custom filter\n",
        "@app.template_filter('reverse')\n",
        "def reverse_string(s):\n",
        "    return s[::-1]\n",
        "\n",
        "# 2️ Route\n",
        "@app.route('/')\n",
        "def home():\n",
        "    name = \"Yash\"\n",
        "    template = \"\"\"\n",
        "    <h1>Original: {{ name }}</h1>\n",
        "    <h2>Reversed using custom filter: {{ name|reverse }}</h2>\n",
        "    \"\"\"\n",
        "    return render_template_string(template, name=name)\n",
        "\n",
        "if __name__ == '__main__':\n",
        "    app.run(debug=True)\n"
      ],
      "metadata": {
        "id": "W_u4DouqhdmL"
      },
      "execution_count": null,
      "outputs": []
    },
    {
      "cell_type": "markdown",
      "source": [
        "Q13 How can you redirect with query parameters in Flask?\n",
        "\n",
        "Ans]"
      ],
      "metadata": {
        "id": "1hV_eWvChzE0"
      }
    },
    {
      "cell_type": "code",
      "source": [
        "from flask import Flask, redirect, url_for, request\n",
        "\n",
        "app = Flask(__name__)\n",
        "\n",
        "@app.route('/')\n",
        "def home():\n",
        "    return \"<h1>Home Page</h1><a href='/go'>Go with Params</a>\"\n",
        "\n",
        "@app.route('/go')\n",
        "def go():\n",
        "    # Redirect to 'destination' route with query parameters\n",
        "    return redirect(url_for('destination', name='Yash', age=25))\n",
        "\n",
        "@app.route('/destination')\n",
        "def destination():\n",
        "    # Access query parameters\n",
        "    name = request.args.get('name')\n",
        "    age = request.args.get('age')\n",
        "    return f\"Welcome {name}! You are {age} years old.\"\n",
        "\n",
        "if __name__ == '__main__':\n",
        "    app.run(debug=True)\n"
      ],
      "metadata": {
        "id": "1isVhp7uh6Eu"
      },
      "execution_count": null,
      "outputs": []
    },
    {
      "cell_type": "markdown",
      "source": [
        "Q14 How do you return JSON responses in Flask?\n",
        "\n",
        "Ans]"
      ],
      "metadata": {
        "id": "aToGXj4niBn9"
      }
    },
    {
      "cell_type": "code",
      "source": [
        "from flask import Flask, jsonify\n",
        "\n",
        "app = Flask(__name__)\n",
        "\n",
        "@app.route('/')\n",
        "def home():\n",
        "    return \"Welcome to the Flask JSON example!\"\n",
        "\n",
        "@app.route('/api/user')\n",
        "def user():\n",
        "    data = {\n",
        "        \"name\": \"Yash\",\n",
        "        \"age\": 25,\n",
        "        \"email\": \"yash@example.com\"\n",
        "    }\n",
        "    return jsonify(data)\n",
        "\n",
        "if __name__ == '__main__':\n",
        "    app.run(debug=True)\n"
      ],
      "metadata": {
        "id": "usYvQtmMiIUb"
      },
      "execution_count": null,
      "outputs": []
    },
    {
      "cell_type": "markdown",
      "source": [
        "Q15 How do you capture URL parameters in Flask?"
      ],
      "metadata": {
        "id": "TnShIfNviPSt"
      }
    },
    {
      "cell_type": "code",
      "source": [
        "from flask import Flask\n",
        "\n",
        "app = Flask(__name__)\n",
        "\n",
        "@app.route('/user/<username>')\n",
        "def show_user(username):\n",
        "    return f\"Hello, {username}!\"\n",
        "\n",
        "@app.route('/post/<int:post_id>')\n",
        "def show_post(post_id):\n",
        "    return f\"This is post number {post_id}\"\n",
        "\n",
        "if __name__ == '__main__':\n",
        "    app.run(debug=True)\n"
      ],
      "metadata": {
        "id": "BKY3D1SgiXdQ"
      },
      "execution_count": null,
      "outputs": []
    }
  ]
}